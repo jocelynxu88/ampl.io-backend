{
 "metadata": {
  "language_info": {
   "codemirror_mode": {
    "name": "ipython",
    "version": 3
   },
   "file_extension": ".py",
   "mimetype": "text/x-python",
   "name": "python",
   "nbconvert_exporter": "python",
   "pygments_lexer": "ipython3",
   "version": "3.9.0"
  },
  "orig_nbformat": 2,
  "kernelspec": {
   "name": "python3",
   "display_name": "Python 3.9.0 64-bit",
   "metadata": {
    "interpreter": {
     "hash": "7812ea015bdcee6f23a998adcdd2ef97c151c0c241b7b7070987d9313e41299d"
    }
   }
  }
 },
 "nbformat": 4,
 "nbformat_minor": 2,
 "cells": [
  {
   "cell_type": "code",
   "execution_count": 26,
   "metadata": {},
   "outputs": [
    {
     "output_type": "stream",
     "name": "stdout",
     "text": [
      "       Bios  Age                   Goal Frequency   Category\n0      Olaf   10           more pushups     Daily   Exercise\n1   Raymond   18          daily pushups     Daily   Exercise\n2     Shrek   49          eat healthier    Weekly   Personal\n3    Baymax   14  do textbook questions    Weekly  Education\n4  Penguino   78               be happy   Monthly   Personal\n5     Alvin   18        fit and pushups     Daily   Exercise\n"
     ]
    }
   ],
   "source": [
    "import pandas as pd\n",
    "import time\n",
    "import random\n",
    "import re\n",
    "import numpy as np\n",
    "import _pickle as pickle\n",
    "#from tqdm import tqdm_notebook as tqdm\n",
    "#from bs4 import BeautifulSoup as bs\n",
    "categories=[\"Education\",\"Exercise\",\"Health\",\"Personal\"]\n",
    "frequency=[\"Daily\",\"Weekly\",\"Monthly\"]\n",
    "peoplelist = [[\"Olaf\", 10, \"more pushups\", frequency[0],categories[1]], \n",
    "[\"Raymond\", 18, \"daily pushups\",frequency[0],categories[1]], \n",
    "[\"Shrek\", 49, 'eat healthier',frequency[1],categories[3]], \n",
    "[\"Baymax\", 14, 'do textbook questions',frequency[1],categories[0]], \n",
    "[\"Penguino\", 78, \"be happy\",frequency[2],categories[3]], \n",
    "[\"Alvin\", 18, \"fit and pushups\",frequency[0],categories[1]]]\n",
    "\n",
    "df = pd.DataFrame(peoplelist, columns=['Bios','Age','Goal',\"Frequency\",\"Category\"])\n",
    "print(df)\n"
   ]
  },
  {
   "cell_type": "code",
   "execution_count": 47,
   "metadata": {},
   "outputs": [
    {
     "output_type": "stream",
     "name": "stdout",
     "text": [
      "['hi', 'my', 'name', 'jocelyn']\n"
     ]
    }
   ],
   "source": [
    "#stopwords made manually since I couldn't get nltk installed properly\n",
    "stops=['a', 'about', 'after', 'all', 'always','an', 'and', 'any', 'at','be','by', \"can\", \"can't\", \"come\", \"do\", \"don't\",\"for\", \"from\", \"get\", \"give\", \"go\", \"have\", \"how\", \"i\", \"in\",\"into\",\"is\", \"isn't\", \"it\", \"keep\", \"let\", \"like\", \"make\", \"many\", \"more\", \"most\", \"much\", \"no\", \"not\", \"now\", \"of\", \"only\", \"or\", \"our\", \"really\", \"say\", \"see\", \"some\", \"something\", \"take\", \"tell\", \"than\", \"that\", \"the\", \"their\", \"them\", \"then\", \"there\", \"they\", \"thing\", \"this\", \"to\", \"try\", \"up\", \"us\", \"use\", \"very\", \"want\", \"way\",\"what\", \"when\", \"where\", \"which\", \"who\", \"why\", \"will\", \"with\", \"without\", \"won't\", \"you\"]\n",
    "\n",
    "def shorten_goal(text):\n",
    "    text=text.lower()\n",
    "    text=text.split(' ')\n",
    "    newtext=[]\n",
    "    for i in text:\n",
    "        if i not in stops:\n",
    "            newtext.append(i)\n",
    "    return newtext\n",
    "\n",
    "\n",
    "for i in df.loc[:,\"Goal\"]:\n",
    "    print(i)\n",
    "#df['Goal']=df.Goal.apply(shorten_goal)\n",
    "\n",
    "#print(df)"
   ]
  },
  {
   "cell_type": "code",
   "execution_count": null,
   "metadata": {},
   "outputs": [],
   "source": []
  }
 ]
}